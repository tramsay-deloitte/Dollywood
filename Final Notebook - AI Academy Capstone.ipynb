{
 "cells": [
  {
   "cell_type": "markdown",
   "metadata": {},
   "source": [
    "# Final Notebook"
   ]
  },
  {
   "cell_type": "markdown",
   "metadata": {},
   "source": [
    "## Table of Contents\n",
    "* [***Introduction***](#Introduction)\n",
    "* [***Package Importing***](#Package-Importing)\n",
    "* [***Data Importing***](#Data-Importing)   (links to the data sources below.)\n",
    "     * [Box Office Mojo](https://www.boxofficemojo.com/)\n",
    "     * [IMDB](https://www.imdb.com/)\n",
    "     * [Rotten Tomatoes](https://www.rottentomatoes.com/)\n",
    "     * [TheMovieDB](https://www.themoviedb.org/)\n",
    "     * [The Numbers](https://www.the-numbers.com/)\n",
    "* [***Data Cleaning***](#Data-Cleaning)\n",
    "    * [***Budget vs. Revenue Data Cleaning***](#Budget-vs.-Revenue-Data-Cleaning)\n",
    "* [***Budget and Revenue Statistical Analysis***](#Budget-and-Revenue-Statistical-Analysis)\n",
    "* [***Top Studios and their Budgets***](#Top-Studios-and-their-Budgets)\n",
    "* [***Conclusion***](#Conclusion)\n"
   ]
  },
  {
   "cell_type": "markdown",
   "metadata": {},
   "source": [
    "## Introduction\n",
    "\n",
    "This cell will be used to give a little intro."
   ]
  },
  {
   "cell_type": "markdown",
   "metadata": {},
   "source": [
    "#### Package Importing"
   ]
  },
  {
   "cell_type": "code",
   "execution_count": 1,
   "metadata": {},
   "outputs": [],
   "source": [
    "import pandas as pd\n",
    "import numpy as np\n",
    "import matplotlib.pyplot as plt\n",
    "import seaborn as sns\n",
    "import scipy.stats as st\n",
    "import warnings\n",
    "warnings.filterwarnings('ignore')\n",
    "import statsmodels.api as sm\n",
    "import sqlite3 "
   ]
  },
  {
   "cell_type": "markdown",
   "metadata": {},
   "source": [
    "## Data Importing\n",
    "* import all of the available data for project"
   ]
  },
  {
   "cell_type": "code",
   "execution_count": 2,
   "metadata": {},
   "outputs": [],
   "source": [
    "conn = sqlite3.connect('zippedData/im.db')\n",
    "imdb_movie_basics = pd.read_sql_query(\"SELECT * FROM movie_basics\", conn)\n",
    "imdb_movie_ratings = pd.read_sql_query(\"SELECT * FROM movie_ratings\", conn)\n",
    "bom_movie_gross = pd.read_csv('zippedData/bom.movie_gross.csv.gz')\n",
    "tmdb_movies = pd.read_csv('zippedData/tmdb.movies.csv.gz')\n",
    "tmdb_movies = tmdb_movies.drop('Unnamed: 0', axis = 1)                     #remove unneccesary column\n",
    "tn_movies_budget = pd.read_csv('zippedData/tn.movie_budgets.csv.gz')\n",
    "rt_movies_info = pd.read_csv('zippedData/rt.movie_info.tsv.gz', sep = '\\t')\n",
    "rt_movies_reviews = pd.read_csv('zippedData/rt.reviews.tsv.gz', sep = '\\t', encoding='latin')"
   ]
  },
  {
   "cell_type": "markdown",
   "metadata": {},
   "source": [
    "## Data Cleaning"
   ]
  },
  {
   "cell_type": "markdown",
   "metadata": {},
   "source": [
    "### Budget vs. Revenue Data Cleaning"
   ]
  },
  {
   "cell_type": "markdown",
   "metadata": {},
   "source": [
    "In the following cell, we add new columns named \"production_budgetINT\", \"domestic_grossINT\", and \"worldwide_grossINT\" to the *The Numbers* dataset. These are the columns \"production_budget\", \"domestic_gross\", and \"worldwide_gross\" converted from strings into integers.  We then divide all of those columns by a million and remove all movies with a worldwide gross of 0."
   ]
  },
  {
   "cell_type": "code",
   "execution_count": 3,
   "metadata": {},
   "outputs": [],
   "source": [
    "movies_budget = tn_movies_budget \n",
    "\n",
    "# creates a production column int column\n",
    "production_budget = [] \n",
    "\n",
    "for budget in movies_budget['production_budget']:\n",
    "    budget = int(budget[1:].replace(\",\", \"\"))\n",
    "    production_budget.append(budget)\n",
    "    \n",
    "movies_budget['production_budgetINT'] = production_budget\n",
    "\n",
    "# creates a domestic gross int column\n",
    "domestic_gross = [] \n",
    "\n",
    "for gross in movies_budget['domestic_gross']:\n",
    "    gross = int(gross[1:].replace(\",\", \"\"))\n",
    "    domestic_gross.append(gross)\n",
    "    \n",
    "movies_budget['domestic_grossINT'] = domestic_gross\n",
    "\n",
    "# creates a worldwide gross int column\n",
    "worldwide_gross = [] \n",
    "\n",
    "for gross in movies_budget['worldwide_gross']:\n",
    "    gross = int(gross[1:].replace(\",\", \"\"))\n",
    "    worldwide_gross.append(gross)\n",
    "    \n",
    "movies_budget['worldwide_grossINT'] = worldwide_gross\n",
    "\n",
    "#removes worldwide budgets of 0\n",
    "movies_budget = movies_budget[movies_budget.worldwide_grossINT > 0]\n",
    "\n",
    "\n",
    "\n",
    "#divide each budget by one million\n",
    "movies_budget[['production_budgetINT', 'worldwide_grossINT', 'domestic_grossINT']] = movies_budget[['production_budgetINT', 'worldwide_grossINT', 'domestic_grossINT']].mul(1/1000000)"
   ]
  },
  {
   "cell_type": "code",
   "execution_count": 4,
   "metadata": {
    "scrolled": true
   },
   "outputs": [
    {
     "data": {
      "text/plain": [
       "2      2019-06-07\n",
       "580    2019-06-07\n",
       "1997   2019-06-14\n",
       "341    2019-06-14\n",
       "1538   2019-06-21\n",
       "Name: release_date, dtype: datetime64[ns]"
      ]
     },
     "execution_count": 4,
     "metadata": {},
     "output_type": "execute_result"
    }
   ],
   "source": [
    "pd.to_datetime(movies_budget['release_date']).sort_values().tail()"
   ]
  },
  {
   "cell_type": "markdown",
   "metadata": {},
   "source": [
    "### Top Studios' Budgets Data Cleaning"
   ]
  },
  {
   "cell_type": "markdown",
   "metadata": {},
   "source": [
    "In the cell below, we inner join the *The Numbers* budget dataframe and the *Box Office Mojo* movie gross dataframe on the movie titles. We name this new dataframe \"movie_studio_budget.\" We then drop the one null value and combine the duplicate Warner Brothers studio observations."
   ]
  },
  {
   "cell_type": "code",
   "execution_count": 5,
   "metadata": {},
   "outputs": [],
   "source": [
    "movie_gross = bom_movie_gross\n",
    "\n",
    "#inner join two datasets\n",
    "movie_studio_budget = movies_budget.merge(movie_gross, how = 'inner', left_on = 'movie', right_on = 'title')\n",
    "movie_studio_budget = movie_studio_budget[['release_date', 'movie', 'studio','production_budgetINT','worldwide_grossINT']]\n",
    "#make release date datetime\n",
    "movie_studio_budget['release_date'] = pd.to_datetime(movie_studio_budget['release_date'])\n",
    "#drop one null studio row\n",
    "movie_studio_budget = movie_studio_budget.dropna()\n",
    "#make new variable called studio to edit studio names\n",
    "studios = movie_studio_budget['studio']\n",
    "\n",
    "#rename studios that are the same with different names in the dataset\n",
    "studios[studios.str.contains('WB')] = 'WB'\n",
    "\n",
    "\n",
    "# merge the studio variable back into dataframe\n",
    "movie_studio_budget['studio'] = studios"
   ]
  },
  {
   "cell_type": "code",
   "execution_count": null,
   "metadata": {},
   "outputs": [],
   "source": [
    "Remember to talk about the cells below"
   ]
  },
  {
   "cell_type": "code",
   "execution_count": 12,
   "metadata": {},
   "outputs": [],
   "source": [
    "#isolate top 10 studios by their average movie budget and worldwide gross, sort by worldwide gross\n",
    "top_studios = movie_studio_budget[['studio', 'production_budgetINT', 'worldwide_grossINT']].groupby(['studio']).mean()\n",
    "top_studios = top_studios.sort_values(by = 'worldwide_grossINT', ascending = False).reset_index().head(10)"
   ]
  },
  {
   "cell_type": "code",
   "execution_count": 14,
   "metadata": {},
   "outputs": [],
   "source": [
    "#isolate top 10 studios by their total budget and revenues\n",
    "top_studios_total = movie_studio_budget[['studio', 'production_budgetINT', 'worldwide_grossINT']].groupby(['studio']).sum()\n",
    "top_studios_total = top_studios_total.sort_values(by = 'worldwide_grossINT', ascending = False).reset_index().head(10)"
   ]
  },
  {
   "cell_type": "markdown",
   "metadata": {},
   "source": [
    "## Budget and Revenue Statistical Analysis"
   ]
  },
  {
   "cell_type": "markdown",
   "metadata": {},
   "source": [
    "In this section, we will perform a statistical analysis of the relationship between production budget and worldwide gross. For our analysis, we run a simple linear regression with worldwide gross as our dependent variable and production budget as our independent variable.\n",
    "\n",
    "In the two plots below, we have the distributions for production budget and worldwide gross, respectively. Both of the distributions are skewed to the right, which is confirmed by our rejection of the null hypothesis in our normal tests. Given the fact that we will be performing a regression using OLS, the classical linear modeling assumptions allow us to generally relax the normality assumption when we have many observations, meaning we do not transform the data."
   ]
  },
  {
   "cell_type": "code",
   "execution_count": 6,
   "metadata": {},
   "outputs": [
    {
     "data": {
      "text/plain": [
       "<AxesSubplot:xlabel='Production Budget (USD)', ylabel='Density'>"
      ]
     },
     "execution_count": 6,
     "metadata": {},
     "output_type": "execute_result"
    },
    {
     "data": {
      "image/png": "[encoded data removed]",
      "text/plain": [
       "<Figure size 432x288 with 1 Axes>"
      ]
     },
     "metadata": {
      "needs_background": "light"
     },
     "output_type": "display_data"
    }
   ],
   "source": [
    "#plot distribution\n",
    "x = pd.Series(movies_budget['production_budgetINT'], name = \"Production Budget (USD)\")\n",
    "sns.distplot(x, color = \"green\")"
   ]
  },
  {
   "cell_type": "code",
   "execution_count": 7,
   "metadata": {
    "scrolled": false
   },
   "outputs": [
    {
     "data": {
      "text/plain": [
       "<AxesSubplot:xlabel='Worldwide Gross (USD)', ylabel='Density'>"
      ]
     },
     "execution_count": 7,
     "metadata": {},
     "output_type": "execute_result"
    },
    {
     "data": {
      "image/png": "[encoded data removed]",
      "text/plain": [
       "<Figure size 432x288 with 1 Axes>"
      ]
     },
     "metadata": {
      "needs_background": "light"
     },
     "output_type": "display_data"
    }
   ],
   "source": [
    "#plot distribution\n",
    "x = pd.Series(movies_budget['worldwide_grossINT'], name = \"Worldwide Gross (USD)\")\n",
    "sns.distplot(x)"
   ]
  },
  {
   "cell_type": "markdown",
   "metadata": {},
   "source": [
    "Test for if the production budget is normally distributed. A p-value less than 0.05 rejects the null hypothesis that the data is normally distributed:"
   ]
  },
  {
   "cell_type": "code",
   "execution_count": 8,
   "metadata": {},
   "outputs": [
    {
     "data": {
      "text/plain": [
       "NormaltestResult(statistic=3117.059393788194, pvalue=0.0)"
      ]
     },
     "execution_count": 8,
     "metadata": {},
     "output_type": "execute_result"
    }
   ],
   "source": [
    "#test for normality\n",
    "st.normaltest(movies_budget['production_budgetINT'])"
   ]
  },
  {
   "cell_type": "markdown",
   "metadata": {},
   "source": [
    "Test for if worldwide gross is normally distributed. A p-value less than 0.05 rejects the null hypothesis that the data is normally distributed:"
   ]
  },
  {
   "cell_type": "code",
   "execution_count": 9,
   "metadata": {},
   "outputs": [
    {
     "data": {
      "text/plain": [
       "NormaltestResult(statistic=4983.028689614257, pvalue=0.0)"
      ]
     },
     "execution_count": 9,
     "metadata": {},
     "output_type": "execute_result"
    }
   ],
   "source": [
    "#test for normality\n",
    "st.normaltest(movies_budget['worldwide_grossINT'])"
   ]
  },
  {
   "cell_type": "markdown",
   "metadata": {},
   "source": [
    "Below we plot a scatter of Production Budget and Worldwide Gross for all movies in the movies_budget dataset and apply a line of best fit. There is a positive correlation between budget and gross, suggesting that an increase in production budget is associated with an increase in worldwide gross. However, we also see below the line of best fit that there are a few points that seem to be following a trend that would suggest diminishing returns of production budget."
   ]
  },
  {
   "cell_type": "code",
   "execution_count": 10,
   "metadata": {
    "scrolled": true
   },
   "outputs": [
    {
     "data": {
      "text/plain": [
       "[<matplotlib.lines.Line2D at 0x1511dcce2e0>]"
      ]
     },
     "execution_count": 10,
     "metadata": {},
     "output_type": "execute_result"
    },
    {
     "data": {
      "image/png": "[encoded data removed]",
      "text/plain": [
       "<Figure size 360x360 with 1 Axes>"
      ]
     },
     "metadata": {
      "needs_background": "light"
     },
     "output_type": "display_data"
    }
   ],
   "source": [
    "#plot scatterplot of budget and revenue to show relationship between the two\n",
    "fig = plt.subplots(figsize=(5, 5))\n",
    "x = movies_budget['production_budgetINT']\n",
    " \n",
    "y = movies_budget['worldwide_grossINT']\n",
    "\n",
    "z = np.polyfit(x, y, 1)\n",
    "p = np.poly1d(z)\n",
    "plt.title('Worldwide Gross vs Production Budget, 1984-20', pad = 15)\n",
    "\n",
    "plt.xlabel('Production Budget (Millions USD)')\n",
    "plt.ylabel('Worldwide Gross (Millions USD)')\n",
    "\n",
    "plt.scatter(x, y, c =\"forestgreen\", alpha = .5, s = 20)\n",
    "plt.plot(x, p(x), color = \"dodgerblue\")"
   ]
  },
  {
   "cell_type": "markdown",
   "metadata": {},
   "source": [
    "We perform a Simple Linear Regression, regressing production budget on worldwide gross to learn more about the relationship. Some important characteristics provided in the regression output table are the R^2 value and the coefficient with its corresponding p-value."
   ]
  },
  {
   "cell_type": "code",
   "execution_count": 11,
   "metadata": {},
   "outputs": [
    {
     "name": "stdout",
     "output_type": "stream",
     "text": [
      "                            OLS Regression Results                            \n",
      "==============================================================================\n",
      "Dep. Variable:     worldwide_grossINT   R-squared:                       0.557\n",
      "Model:                            OLS   Adj. R-squared:                  0.556\n",
      "Method:                 Least Squares   F-statistic:                     6793.\n",
      "Date:                Mon, 01 Aug 2022   Prob (F-statistic):               0.00\n",
      "Time:                        15:49:44   Log-Likelihood:                -33567.\n",
      "No. Observations:                5415   AIC:                         6.714e+04\n",
      "Df Residuals:                    5413   BIC:                         6.715e+04\n",
      "Df Model:                           1                                         \n",
      "Covariance Type:            nonrobust                                         \n",
      "========================================================================================\n",
      "                           coef    std err          t      P>|t|      [0.025      0.975]\n",
      "----------------------------------------------------------------------------------------\n",
      "Intercept               -6.9150      2.057     -3.362      0.001     -10.947      -2.883\n",
      "production_budgetINT     3.1405      0.038     82.421      0.000       3.066       3.215\n",
      "==============================================================================\n",
      "Omnibus:                     3873.225   Durbin-Watson:                   1.013\n",
      "Prob(Omnibus):                  0.000   Jarque-Bera (JB):           143251.883\n",
      "Skew:                           2.978   Prob(JB):                         0.00\n",
      "Kurtosis:                      27.484   Cond. No.                         68.6\n",
      "==============================================================================\n",
      "\n",
      "Notes:\n",
      "[1] Standard Errors assume that the covariance matrix of the errors is correctly specified.\n"
     ]
    }
   ],
   "source": [
    "lm = sm.OLS.from_formula('worldwide_grossINT ~ production_budgetINT',data = movies_budget)\n",
    "result = lm.fit()\n",
    "print(result.summary())"
   ]
  },
  {
   "cell_type": "markdown",
   "metadata": {},
   "source": [
    "The coefficient from our simple linear regression suggests that an increase in 1 dollar in production budget is associated with an increase in 3.14 dollars in worldwide gross, statistically signficant at all reasonable levels. \n",
    "\n",
    "The R-squared, which is a measure of \"goodness of fit\" is 0.557. This means that production budget explains 55.7% of the sample variation of worldwide gross. \n",
    "\n",
    "Given our time constraints and the scope of this project, we were unable to make a more accurate and complex model. Our simple linear regression has the problem of omitted variable bias and we did not test for other issues such as heteroskedasticity. However, our Simple Linear Regression is sufficient when looking for a general picture of the relationship between budget and revenue. "
   ]
  },
  {
   "cell_type": "markdown",
   "metadata": {},
   "source": [
    "## Top Studios and their Budgets"
   ]
  },
  {
   "cell_type": "code",
   "execution_count": 13,
   "metadata": {},
   "outputs": [
    {
     "data": {
      "text/plain": [
       "<matplotlib.legend.Legend at 0x1511d9df4c0>"
      ]
     },
     "execution_count": 13,
     "metadata": {},
     "output_type": "execute_result"
    },
    {
     "data": {
      "image/png": "[encoded data removed]",
      "text/plain": [
       "<Figure size 432x288 with 1 Axes>"
      ]
     },
     "metadata": {
      "needs_background": "light"
     },
     "output_type": "display_data"
    }
   ],
   "source": [
    "w=0.3\n",
    "x = list(top_studios['studio'])\n",
    "worldwide_gross = list(top_studios['worldwide_grossINT'])\n",
    "production_budget = list(top_studios['production_budgetINT'])\n",
    "\n",
    "bar1 = np.arange(len(x))\n",
    "bar2 = [i+w for i in bar1]\n",
    "\n",
    "plt.bar(bar1,worldwide_gross,w,label='Worldwide Gross', color = 'forestgreen')\n",
    "plt.bar(bar2,production_budget,w,label='Production Budget', color = 'dodgerblue')\n",
    "plt.title(\"Top Studio's Average Revenue vs Budget per Movie, 1984-2018\", pad = 15)\n",
    "plt.xticks(bar1+w/2,x)\n",
    "plt.xlabel('Studio')\n",
    "plt.ylabel('Average Worldwide Gross (USD)')\n",
    "plt.legend()"
   ]
  },
  {
   "cell_type": "code",
   "execution_count": 15,
   "metadata": {
    "scrolled": true
   },
   "outputs": [
    {
     "data": {
      "text/plain": [
       "<matplotlib.legend.Legend at 0x1511dd80ac0>"
      ]
     },
     "execution_count": 15,
     "metadata": {},
     "output_type": "execute_result"
    },
    {
     "data": {
      "image/png": "[encoded data removed]",
      "text/plain": [
       "<Figure size 432x288 with 1 Axes>"
      ]
     },
     "metadata": {
      "needs_background": "light"
     },
     "output_type": "display_data"
    }
   ],
   "source": [
    "w=0.3\n",
    "x = list(top_studios_total['studio'])\n",
    "worldwide_gross = list(top_studios_total['worldwide_grossINT'])\n",
    "production_budget = list(top_studios_total['production_budgetINT'])\n",
    "\n",
    "bar1 = np.arange(len(x))\n",
    "bar2 = [i+w for i in bar1]\n",
    "\n",
    "plt.bar(bar1,(worldwide_gross),w,label='Worldwide Gross', color = 'forestgreen')\n",
    "plt.bar(bar2,(production_budget),w,label='Production Budget', color = 'dodgerblue')\n",
    "plt.title(\"Top Studio's Total Revenue vs Budget Across All Movies, 1984-2018\", pad = 15)\n",
    "plt.xticks(bar1+w/2,x)\n",
    "plt.xlabel('Studio')\n",
    "plt.ylabel('Total Worldwide Gross (USD)')\n",
    "plt.legend()"
   ]
  },
  {
   "cell_type": "markdown",
   "metadata": {},
   "source": [
    "We found there is a significant correlation between budget and revenue, suggesting that an increase in production budget is associated with an increase in gross revenue. However, our linear model doesn't take into account what looks to be diminishing returns to increasing production budget. It looks like the diminishing returns begin between 200,000,000 USD and 250,000,000 USD. Looking at other studios, our top competitors specifically, we can see that they spend between 43,000,000 USD and 130,000,000 USD in their production budget per movie."
   ]
  },
  {
   "cell_type": "markdown",
   "metadata": {},
   "source": [
    "## Recommendation #3"
   ]
  },
  {
   "cell_type": "markdown",
   "metadata": {},
   "source": [
    "Taking into account the typical budgets of competitors and the positive relationship between production budget and worldwide gross, that also looks to have the possibility of diminishing returns, we recommend that Computing Vision keeps their movie budgets greater than 43,000,000 USD and less than 200,000,000 USD."
   ]
  },
  {
   "cell_type": "markdown",
   "metadata": {},
   "source": [
    "## Conclusion\n",
    "\n",
    "This cell will be used to give a little conclusion."
   ]
  }
 ],
 "metadata": {
  "kernelspec": {
   "display_name": "Python (learn-env)",
   "language": "python",
   "name": "learn-env"
  },
  "language_info": {
   "codemirror_mode": {
    "name": "ipython",
    "version": 3
   },
   "file_extension": ".py",
   "mimetype": "text/x-python",
   "name": "python",
   "nbconvert_exporter": "python",
   "pygments_lexer": "ipython3",
   "version": "3.8.5"
  }
 },
 "nbformat": 4,
 "nbformat_minor": 4
}
