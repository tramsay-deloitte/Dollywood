{
 "cells": [
  {
   "cell_type": "markdown",
   "metadata": {},
   "source": [
    "# Final Notebook"
   ]
  },
  {
   "cell_type": "markdown",
   "metadata": {},
   "source": [
    "## Table of Contents\n",
    "* [***Introduction***](#Introduction)\n",
    "* [***Package Importing***](#Package-Importing)\n",
    "* [***Data Importing***](#Data-Importing)   (links to the data sources below.)\n",
    "     * [Box Office Mojo](https://www.boxofficemojo.com/)\n",
    "     * [IMDB](https://www.imdb.com/)\n",
    "     * [Rotten Tomatoes](https://www.rottentomatoes.com/)\n",
    "     * [TheMovieDB](https://www.themoviedb.org/)\n",
    "     * [The Numbers](https://www.the-numbers.com/)\n",
    "* [***Data Cleaning***](#Data-Cleaning)\n",
    "    * [***Budget vs. Revenue Data Cleaning***](#Budget-vs.-Revenue-Data-Cleaning)\n",
    "* [***Budget and Revenue Statistical Analysis***](#Budget-and-Revenue-Statistical-Analysis)\n",
    "* [***Conclusion***](#Conclusion)\n"
   ]
  },
  {
   "cell_type": "markdown",
   "metadata": {},
   "source": [
    "## Introduction\n",
    "\n",
    "This cell will be used to give a little intro."
   ]
  },
  {
   "cell_type": "markdown",
   "metadata": {},
   "source": [
    "#### Package Importing"
   ]
  },
  {
   "cell_type": "code",
   "execution_count": 1,
   "metadata": {},
   "outputs": [],
   "source": [
    "import pandas as pd\n",
    "import numpy as np\n",
    "import matplotlib.pyplot as plt\n",
    "import seaborn as sns\n",
    "import scipy.stats as st\n",
    "import warnings\n",
    "warnings.filterwarnings('ignore')\n",
    "import statsmodels.api as sm\n",
    "import sqlite3 "
   ]
  },
  {
   "cell_type": "markdown",
   "metadata": {},
   "source": [
    "## Data Importing\n",
    "* import all of the available data for project"
   ]
  },
  {
   "cell_type": "code",
   "execution_count": 2,
   "metadata": {},
   "outputs": [],
   "source": [
    "conn = sqlite3.connect('zippedData/im.db')\n",
    "imdb_movie_basics = pd.read_sql_query(\"SELECT * FROM movie_basics\", conn)\n",
    "imdb_movie_ratings = pd.read_sql_query(\"SELECT * FROM movie_ratings\", conn)\n",
    "bom_movie_gross = pd.read_csv('zippedData/bom.movie_gross.csv.gz')\n",
    "tmdb_movies = pd.read_csv('zippedData/tmdb.movies.csv.gz')\n",
    "tmdb_movies = tmdb_movies.drop('Unnamed: 0', axis = 1)                     #remove unneccesary column\n",
    "tn_movies_budget = pd.read_csv('zippedData/tn.movie_budgets.csv.gz')\n",
    "rt_movies_info = pd.read_csv('zippedData/rt.movie_info.tsv.gz', sep = '\\t')\n",
    "rt_movies_reviews = pd.read_csv('zippedData/rt.reviews.tsv.gz', sep = '\\t', encoding='latin')"
   ]
  },
  {
   "cell_type": "markdown",
   "metadata": {},
   "source": [
    "## Data Cleaning"
   ]
  },
  {
   "cell_type": "markdown",
   "metadata": {},
   "source": [
    "### Budget vs. Revenue Data Cleaning"
   ]
  },
  {
   "cell_type": "markdown",
   "metadata": {},
   "source": [
    "In the following cell, we add new columns named \"production_budgetINT\", \"domestic_grossINT\", and \"worldwide_grossINT\" to the *The Numbers* dataset. These are the columns \"production_budget\", \"domestic_gross\", and \"worldwide_gross\" converted from strings into integers.  We then divide all of those columns by a million and remove all movies with a worldwide gross of 0."
   ]
  },
  {
   "cell_type": "code",
   "execution_count": 3,
   "metadata": {},
   "outputs": [],
   "source": [
    "movies_budget = tn_movies_budget \n",
    "\n",
    "# creates a production column int column\n",
    "production_budget = [] \n",
    "\n",
    "for budget in movies_budget['production_budget']:\n",
    "    budget = int(budget[1:].replace(\",\", \"\"))\n",
    "    production_budget.append(budget)\n",
    "    \n",
    "movies_budget['production_budgetINT'] = production_budget\n",
    "\n",
    "# creates a domestic gross int column\n",
    "domestic_gross = [] \n",
    "\n",
    "for gross in movies_budget['domestic_gross']:\n",
    "    gross = int(gross[1:].replace(\",\", \"\"))\n",
    "    domestic_gross.append(gross)\n",
    "    \n",
    "movies_budget['domestic_grossINT'] = domestic_gross\n",
    "\n",
    "# creates a worldwide gross int column\n",
    "worldwide_gross = [] \n",
    "\n",
    "for gross in movies_budget['worldwide_gross']:\n",
    "    gross = int(gross[1:].replace(\",\", \"\"))\n",
    "    worldwide_gross.append(gross)\n",
    "    \n",
    "movies_budget['worldwide_grossINT'] = worldwide_gross\n",
    "\n",
    "#removes worldwide budgets of 0\n",
    "movies_budget = movies_budget[movies_budget.worldwide_grossINT > 0]\n",
    "\n",
    "\n",
    "\n",
    "#divide each budget by one million\n",
    "movies_budget[['production_budgetINT', 'worldwide_grossINT', 'domestic_grossINT']] = movies_budget[['production_budgetINT', 'worldwide_grossINT', 'domestic_grossINT']].mul(1/1000000)"
   ]
  },
  {
   "cell_type": "markdown",
   "metadata": {},
   "source": [
    "### Top Studios' Budgets Data Cleaning"
   ]
  },
  {
   "cell_type": "markdown",
   "metadata": {},
   "source": [
    "In the cell below, we inner join the *The Numbers* budget dataframe and the *Box Office Mojo* movie gross dataframe on the movie titles. We name this new dataframe \"movie_studio_budget.\" We then drop the one null value and combine the duplicate Warner Brothers studio observations."
   ]
  },
  {
   "cell_type": "code",
   "execution_count": 4,
   "metadata": {},
   "outputs": [],
   "source": [
    "movie_gross = bom_movie_gross\n",
    "\n",
    "#inner join two datasets\n",
    "movie_studio_budget = movies_budget.merge(movie_gross, how = 'inner', left_on = 'movie', right_on = 'title')\n",
    "movie_studio_budget = movie_studio_budget[['release_date', 'movie', 'studio','production_budgetINT','worldwide_grossINT']]\n",
    "#make release date datetime\n",
    "movie_studio_budget['release_date'] = pd.to_datetime(movie_studio_budget['release_date'])\n",
    "#drop one null studio row\n",
    "movie_studio_budget = movie_studio_budget.dropna()\n",
    "#make new variable called studio to edit studio names\n",
    "studios = movie_studio_budget['studio']\n",
    "\n",
    "#rename studios that are the same with different names in the dataset\n",
    "studios[studios.str.contains('WB')] = 'WB'\n",
    "\n",
    "\n",
    "# merge the studio variable back into dataframe\n",
    "movie_studio_budget['studio'] = studios"
   ]
  },
  {
   "cell_type": "markdown",
   "metadata": {},
   "source": [
    "## Budget and Revenue Statistical Analysis"
   ]
  },
  {
   "cell_type": "markdown",
   "metadata": {},
   "source": [
    "Below we plot a scatter of Budget "
   ]
  },
  {
   "cell_type": "code",
   "execution_count": 5,
   "metadata": {
    "scrolled": true
   },
   "outputs": [
    {
     "data": {
      "text/plain": [
       "[<matplotlib.lines.Line2D at 0x10e35096f40>]"
      ]
     },
     "execution_count": 5,
     "metadata": {},
     "output_type": "execute_result"
    },
    {
     "data": {
      "image/png": "[encoded data removed]",
      "text/plain": [
       "<Figure size 360x360 with 1 Axes>"
      ]
     },
     "metadata": {
      "needs_background": "light"
     },
     "output_type": "display_data"
    }
   ],
   "source": [
    "#plot scatterplot of budget and revenue to show relationship between the two\n",
    "fig = plt.subplots(figsize=(5, 5))\n",
    "x = movies_budget['production_budgetINT']\n",
    " \n",
    "y = movies_budget['worldwide_grossINT']\n",
    "\n",
    "z = np.polyfit(x, y, 1)\n",
    "p = np.poly1d(z)\n",
    "plt.title('Worldwide Gross vs Production Budget', pad = 15)\n",
    "\n",
    "plt.xlabel('Production Budget (Millions USD)')\n",
    "plt.ylabel('Worldwide Gross (Millions USD)')\n",
    "\n",
    "plt.scatter(x, y, c =\"forestgreen\", alpha = .5, s = 20)\n",
    "plt.plot(x, p(x), color = \"dodgerblue\")"
   ]
  },
  {
   "cell_type": "code",
   "execution_count": null,
   "metadata": {},
   "outputs": [],
   "source": []
  },
  {
   "cell_type": "code",
   "execution_count": null,
   "metadata": {},
   "outputs": [],
   "source": []
  },
  {
   "cell_type": "code",
   "execution_count": null,
   "metadata": {},
   "outputs": [],
   "source": []
  },
  {
   "cell_type": "code",
   "execution_count": null,
   "metadata": {},
   "outputs": [],
   "source": []
  },
  {
   "cell_type": "code",
   "execution_count": null,
   "metadata": {},
   "outputs": [],
   "source": []
  },
  {
   "cell_type": "code",
   "execution_count": null,
   "metadata": {},
   "outputs": [],
   "source": []
  },
  {
   "cell_type": "code",
   "execution_count": null,
   "metadata": {},
   "outputs": [],
   "source": []
  },
  {
   "cell_type": "markdown",
   "metadata": {},
   "source": [
    "## Conclusion\n",
    "\n",
    "This cell will be used to give a little conclusion."
   ]
  },
  {
   "cell_type": "code",
   "execution_count": null,
   "metadata": {},
   "outputs": [],
   "source": []
  }
 ],
 "metadata": {
  "kernelspec": {
   "display_name": "Python (learn-env)",
   "language": "python",
   "name": "learn-env"
  },
  "language_info": {
   "codemirror_mode": {
    "name": "ipython",
    "version": 3
   },
   "file_extension": ".py",
   "mimetype": "text/x-python",
   "name": "python",
   "nbconvert_exporter": "python",
   "pygments_lexer": "ipython3",
   "version": "3.8.5"
  }
 },
 "nbformat": 4,
 "nbformat_minor": 4
}
