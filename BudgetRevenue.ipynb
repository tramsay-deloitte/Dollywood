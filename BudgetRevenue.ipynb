{
 "cells": [
  {
   "cell_type": "markdown",
   "metadata": {},
   "source": [
    "## Budget vs Revenue"
   ]
  },
  {
   "cell_type": "markdown",
   "metadata": {},
   "source": [
    "## Table of Contents\n",
    "\n",
    "\n",
    "* [***Data Importing***](#Data-Importing)   (links to the data sources below.)\n",
    "     * [Box Office Mojo](https://www.boxofficemojo.com/)\n",
    "     * [IMDB](https://www.imdb.com/)\n",
    "     * [Rotten Tomatoes](https://www.rottentomatoes.com/)\n",
    "     * [TheMovieDB](https://www.themoviedb.org/)\n",
    "     * [The Numbers](https://www.the-numbers.com/)\n",
    "* [***Data Cleaning***](#Data-Cleaning)\n",
    "* [***Budget vs. Revenue Correlation***](#Budget-vs.-Revenue-Correlation)\n",
    "* [***Top Studios Budgets***](#Top-Studios-Budgets)\n"
   ]
  },
  {
   "cell_type": "markdown",
   "metadata": {},
   "source": [
    "Importing necessary packages"
   ]
  },
  {
   "cell_type": "code",
   "execution_count": 1,
   "metadata": {},
   "outputs": [],
   "source": [
    "import pandas as pd\n",
    "import numpy as np\n",
    "import matplotlib.pyplot as plt\n",
    "import seaborn as sns\n",
    "import scipy.stats as st\n",
    "import warnings\n",
    "warnings.filterwarnings('ignore')\n",
    "import statsmodels.api as sm\n"
   ]
  },
  {
   "cell_type": "markdown",
   "metadata": {},
   "source": [
    "## Data Importing"
   ]
  },
  {
   "cell_type": "code",
   "execution_count": 2,
   "metadata": {},
   "outputs": [
    {
     "data": {
      "text/html": [
       "<div>\n",
       "<style scoped>\n",
       "    .dataframe tbody tr th:only-of-type {\n",
       "        vertical-align: middle;\n",
       "    }\n",
       "\n",
       "    .dataframe tbody tr th {\n",
       "        vertical-align: top;\n",
       "    }\n",
       "\n",
       "    .dataframe thead th {\n",
       "        text-align: right;\n",
       "    }\n",
       "</style>\n",
       "<table border=\"1\" class=\"dataframe\">\n",
       "  <thead>\n",
       "    <tr style=\"text-align: right;\">\n",
       "      <th></th>\n",
       "      <th>id</th>\n",
       "      <th>release_date</th>\n",
       "      <th>movie</th>\n",
       "      <th>production_budget</th>\n",
       "      <th>domestic_gross</th>\n",
       "      <th>worldwide_gross</th>\n",
       "    </tr>\n",
       "  </thead>\n",
       "  <tbody>\n",
       "    <tr>\n",
       "      <th>0</th>\n",
       "      <td>1</td>\n",
       "      <td>Dec 18, 2009</td>\n",
       "      <td>Avatar</td>\n",
       "      <td>$425,000,000</td>\n",
       "      <td>$760,507,625</td>\n",
       "      <td>$2,776,345,279</td>\n",
       "    </tr>\n",
       "    <tr>\n",
       "      <th>1</th>\n",
       "      <td>2</td>\n",
       "      <td>May 20, 2011</td>\n",
       "      <td>Pirates of the Caribbean: On Stranger Tides</td>\n",
       "      <td>$410,600,000</td>\n",
       "      <td>$241,063,875</td>\n",
       "      <td>$1,045,663,875</td>\n",
       "    </tr>\n",
       "    <tr>\n",
       "      <th>2</th>\n",
       "      <td>3</td>\n",
       "      <td>Jun 7, 2019</td>\n",
       "      <td>Dark Phoenix</td>\n",
       "      <td>$350,000,000</td>\n",
       "      <td>$42,762,350</td>\n",
       "      <td>$149,762,350</td>\n",
       "    </tr>\n",
       "    <tr>\n",
       "      <th>3</th>\n",
       "      <td>4</td>\n",
       "      <td>May 1, 2015</td>\n",
       "      <td>Avengers: Age of Ultron</td>\n",
       "      <td>$330,600,000</td>\n",
       "      <td>$459,005,868</td>\n",
       "      <td>$1,403,013,963</td>\n",
       "    </tr>\n",
       "    <tr>\n",
       "      <th>4</th>\n",
       "      <td>5</td>\n",
       "      <td>Dec 15, 2017</td>\n",
       "      <td>Star Wars Ep. VIII: The Last Jedi</td>\n",
       "      <td>$317,000,000</td>\n",
       "      <td>$620,181,382</td>\n",
       "      <td>$1,316,721,747</td>\n",
       "    </tr>\n",
       "    <tr>\n",
       "      <th>...</th>\n",
       "      <td>...</td>\n",
       "      <td>...</td>\n",
       "      <td>...</td>\n",
       "      <td>...</td>\n",
       "      <td>...</td>\n",
       "      <td>...</td>\n",
       "    </tr>\n",
       "    <tr>\n",
       "      <th>5777</th>\n",
       "      <td>78</td>\n",
       "      <td>Dec 31, 2018</td>\n",
       "      <td>Red 11</td>\n",
       "      <td>$7,000</td>\n",
       "      <td>$0</td>\n",
       "      <td>$0</td>\n",
       "    </tr>\n",
       "    <tr>\n",
       "      <th>5778</th>\n",
       "      <td>79</td>\n",
       "      <td>Apr 2, 1999</td>\n",
       "      <td>Following</td>\n",
       "      <td>$6,000</td>\n",
       "      <td>$48,482</td>\n",
       "      <td>$240,495</td>\n",
       "    </tr>\n",
       "    <tr>\n",
       "      <th>5779</th>\n",
       "      <td>80</td>\n",
       "      <td>Jul 13, 2005</td>\n",
       "      <td>Return to the Land of Wonders</td>\n",
       "      <td>$5,000</td>\n",
       "      <td>$1,338</td>\n",
       "      <td>$1,338</td>\n",
       "    </tr>\n",
       "    <tr>\n",
       "      <th>5780</th>\n",
       "      <td>81</td>\n",
       "      <td>Sep 29, 2015</td>\n",
       "      <td>A Plague So Pleasant</td>\n",
       "      <td>$1,400</td>\n",
       "      <td>$0</td>\n",
       "      <td>$0</td>\n",
       "    </tr>\n",
       "    <tr>\n",
       "      <th>5781</th>\n",
       "      <td>82</td>\n",
       "      <td>Aug 5, 2005</td>\n",
       "      <td>My Date With Drew</td>\n",
       "      <td>$1,100</td>\n",
       "      <td>$181,041</td>\n",
       "      <td>$181,041</td>\n",
       "    </tr>\n",
       "  </tbody>\n",
       "</table>\n",
       "<p>5782 rows × 6 columns</p>\n",
       "</div>"
      ],
      "text/plain": [
       "      id  release_date                                        movie  \\\n",
       "0      1  Dec 18, 2009                                       Avatar   \n",
       "1      2  May 20, 2011  Pirates of the Caribbean: On Stranger Tides   \n",
       "2      3   Jun 7, 2019                                 Dark Phoenix   \n",
       "3      4   May 1, 2015                      Avengers: Age of Ultron   \n",
       "4      5  Dec 15, 2017            Star Wars Ep. VIII: The Last Jedi   \n",
       "...   ..           ...                                          ...   \n",
       "5777  78  Dec 31, 2018                                       Red 11   \n",
       "5778  79   Apr 2, 1999                                    Following   \n",
       "5779  80  Jul 13, 2005                Return to the Land of Wonders   \n",
       "5780  81  Sep 29, 2015                         A Plague So Pleasant   \n",
       "5781  82   Aug 5, 2005                            My Date With Drew   \n",
       "\n",
       "     production_budget domestic_gross worldwide_gross  \n",
       "0         $425,000,000   $760,507,625  $2,776,345,279  \n",
       "1         $410,600,000   $241,063,875  $1,045,663,875  \n",
       "2         $350,000,000    $42,762,350    $149,762,350  \n",
       "3         $330,600,000   $459,005,868  $1,403,013,963  \n",
       "4         $317,000,000   $620,181,382  $1,316,721,747  \n",
       "...                ...            ...             ...  \n",
       "5777            $7,000             $0              $0  \n",
       "5778            $6,000        $48,482        $240,495  \n",
       "5779            $5,000         $1,338          $1,338  \n",
       "5780            $1,400             $0              $0  \n",
       "5781            $1,100       $181,041        $181,041  \n",
       "\n",
       "[5782 rows x 6 columns]"
      ]
     },
     "execution_count": 2,
     "metadata": {},
     "output_type": "execute_result"
    }
   ],
   "source": [
    "movies_budget = pd.read_csv('zippedData/tn.movie_budgets.csv.gz')\n",
    "movies_budget"
   ]
  },
  {
   "cell_type": "markdown",
   "metadata": {},
   "source": [
    "## Data Cleaning"
   ]
  },
  {
   "cell_type": "code",
   "execution_count": 3,
   "metadata": {},
   "outputs": [],
   "source": [
    "# creates a production column int column\n",
    "production_budget = [] \n",
    "\n",
    "for budget in movies_budget['production_budget']:\n",
    "    budget = int(budget[1:].replace(\",\", \"\"))\n",
    "    production_budget.append(budget)\n",
    "    \n",
    "movies_budget['production_budgetINT'] = production_budget"
   ]
  },
  {
   "cell_type": "code",
   "execution_count": 4,
   "metadata": {},
   "outputs": [],
   "source": [
    "# creates a domestic gross int column\n",
    "domestic_gross = [] \n",
    "\n",
    "for gross in movies_budget['domestic_gross']:\n",
    "    gross = int(gross[1:].replace(\",\", \"\"))\n",
    "    domestic_gross.append(gross)\n",
    "    \n",
    "movies_budget['domestic_grossINT'] = domestic_gross"
   ]
  },
  {
   "cell_type": "code",
   "execution_count": 5,
   "metadata": {},
   "outputs": [],
   "source": [
    "# creates a worldwide gross int column\n",
    "worldwide_gross = [] \n",
    "\n",
    "for gross in movies_budget['worldwide_gross']:\n",
    "    gross = int(gross[1:].replace(\",\", \"\"))\n",
    "    worldwide_gross.append(gross)\n",
    "    \n",
    "movies_budget['worldwide_grossINT'] = worldwide_gross"
   ]
  },
  {
   "cell_type": "markdown",
   "metadata": {},
   "source": [
    "Removing all movies with a worldwide gross of 0 these."
   ]
  },
  {
   "cell_type": "code",
   "execution_count": 6,
   "metadata": {},
   "outputs": [],
   "source": [
    "movies_budget = movies_budget[movies_budget.worldwide_grossINT > 0]"
   ]
  },
  {
   "cell_type": "code",
   "execution_count": 7,
   "metadata": {
    "scrolled": true
   },
   "outputs": [
    {
     "data": {
      "text/html": [
       "<div>\n",
       "<style scoped>\n",
       "    .dataframe tbody tr th:only-of-type {\n",
       "        vertical-align: middle;\n",
       "    }\n",
       "\n",
       "    .dataframe tbody tr th {\n",
       "        vertical-align: top;\n",
       "    }\n",
       "\n",
       "    .dataframe thead th {\n",
       "        text-align: right;\n",
       "    }\n",
       "</style>\n",
       "<table border=\"1\" class=\"dataframe\">\n",
       "  <thead>\n",
       "    <tr style=\"text-align: right;\">\n",
       "      <th></th>\n",
       "      <th>id</th>\n",
       "      <th>release_date</th>\n",
       "      <th>movie</th>\n",
       "      <th>production_budget</th>\n",
       "      <th>domestic_gross</th>\n",
       "      <th>worldwide_gross</th>\n",
       "      <th>production_budgetINT</th>\n",
       "      <th>domestic_grossINT</th>\n",
       "      <th>worldwide_grossINT</th>\n",
       "    </tr>\n",
       "  </thead>\n",
       "  <tbody>\n",
       "    <tr>\n",
       "      <th>0</th>\n",
       "      <td>1</td>\n",
       "      <td>Dec 18, 2009</td>\n",
       "      <td>Avatar</td>\n",
       "      <td>$425,000,000</td>\n",
       "      <td>$760,507,625</td>\n",
       "      <td>$2,776,345,279</td>\n",
       "      <td>425000000</td>\n",
       "      <td>760507625</td>\n",
       "      <td>2776345279</td>\n",
       "    </tr>\n",
       "    <tr>\n",
       "      <th>1</th>\n",
       "      <td>2</td>\n",
       "      <td>May 20, 2011</td>\n",
       "      <td>Pirates of the Caribbean: On Stranger Tides</td>\n",
       "      <td>$410,600,000</td>\n",
       "      <td>$241,063,875</td>\n",
       "      <td>$1,045,663,875</td>\n",
       "      <td>410600000</td>\n",
       "      <td>241063875</td>\n",
       "      <td>1045663875</td>\n",
       "    </tr>\n",
       "    <tr>\n",
       "      <th>2</th>\n",
       "      <td>3</td>\n",
       "      <td>Jun 7, 2019</td>\n",
       "      <td>Dark Phoenix</td>\n",
       "      <td>$350,000,000</td>\n",
       "      <td>$42,762,350</td>\n",
       "      <td>$149,762,350</td>\n",
       "      <td>350000000</td>\n",
       "      <td>42762350</td>\n",
       "      <td>149762350</td>\n",
       "    </tr>\n",
       "    <tr>\n",
       "      <th>3</th>\n",
       "      <td>4</td>\n",
       "      <td>May 1, 2015</td>\n",
       "      <td>Avengers: Age of Ultron</td>\n",
       "      <td>$330,600,000</td>\n",
       "      <td>$459,005,868</td>\n",
       "      <td>$1,403,013,963</td>\n",
       "      <td>330600000</td>\n",
       "      <td>459005868</td>\n",
       "      <td>1403013963</td>\n",
       "    </tr>\n",
       "    <tr>\n",
       "      <th>4</th>\n",
       "      <td>5</td>\n",
       "      <td>Dec 15, 2017</td>\n",
       "      <td>Star Wars Ep. VIII: The Last Jedi</td>\n",
       "      <td>$317,000,000</td>\n",
       "      <td>$620,181,382</td>\n",
       "      <td>$1,316,721,747</td>\n",
       "      <td>317000000</td>\n",
       "      <td>620181382</td>\n",
       "      <td>1316721747</td>\n",
       "    </tr>\n",
       "  </tbody>\n",
       "</table>\n",
       "</div>"
      ],
      "text/plain": [
       "   id  release_date                                        movie  \\\n",
       "0   1  Dec 18, 2009                                       Avatar   \n",
       "1   2  May 20, 2011  Pirates of the Caribbean: On Stranger Tides   \n",
       "2   3   Jun 7, 2019                                 Dark Phoenix   \n",
       "3   4   May 1, 2015                      Avengers: Age of Ultron   \n",
       "4   5  Dec 15, 2017            Star Wars Ep. VIII: The Last Jedi   \n",
       "\n",
       "  production_budget domestic_gross worldwide_gross  production_budgetINT  \\\n",
       "0      $425,000,000   $760,507,625  $2,776,345,279             425000000   \n",
       "1      $410,600,000   $241,063,875  $1,045,663,875             410600000   \n",
       "2      $350,000,000    $42,762,350    $149,762,350             350000000   \n",
       "3      $330,600,000   $459,005,868  $1,403,013,963             330600000   \n",
       "4      $317,000,000   $620,181,382  $1,316,721,747             317000000   \n",
       "\n",
       "   domestic_grossINT  worldwide_grossINT  \n",
       "0          760507625          2776345279  \n",
       "1          241063875          1045663875  \n",
       "2           42762350           149762350  \n",
       "3          459005868          1403013963  \n",
       "4          620181382          1316721747  "
      ]
     },
     "execution_count": 7,
     "metadata": {},
     "output_type": "execute_result"
    }
   ],
   "source": [
    "movies_budget.head()"
   ]
  },
  {
   "cell_type": "code",
   "execution_count": 8,
   "metadata": {},
   "outputs": [
    {
     "data": {
      "text/html": [
       "<div>\n",
       "<style scoped>\n",
       "    .dataframe tbody tr th:only-of-type {\n",
       "        vertical-align: middle;\n",
       "    }\n",
       "\n",
       "    .dataframe tbody tr th {\n",
       "        vertical-align: top;\n",
       "    }\n",
       "\n",
       "    .dataframe thead th {\n",
       "        text-align: right;\n",
       "    }\n",
       "</style>\n",
       "<table border=\"1\" class=\"dataframe\">\n",
       "  <thead>\n",
       "    <tr style=\"text-align: right;\">\n",
       "      <th></th>\n",
       "      <th>title</th>\n",
       "      <th>studio</th>\n",
       "      <th>domestic_gross</th>\n",
       "      <th>foreign_gross</th>\n",
       "      <th>year</th>\n",
       "    </tr>\n",
       "  </thead>\n",
       "  <tbody>\n",
       "    <tr>\n",
       "      <th>0</th>\n",
       "      <td>Toy Story 3</td>\n",
       "      <td>BV</td>\n",
       "      <td>415000000.0</td>\n",
       "      <td>652000000</td>\n",
       "      <td>2010</td>\n",
       "    </tr>\n",
       "    <tr>\n",
       "      <th>1</th>\n",
       "      <td>Alice in Wonderland (2010)</td>\n",
       "      <td>BV</td>\n",
       "      <td>334200000.0</td>\n",
       "      <td>691300000</td>\n",
       "      <td>2010</td>\n",
       "    </tr>\n",
       "    <tr>\n",
       "      <th>2</th>\n",
       "      <td>Harry Potter and the Deathly Hallows Part 1</td>\n",
       "      <td>WB</td>\n",
       "      <td>296000000.0</td>\n",
       "      <td>664300000</td>\n",
       "      <td>2010</td>\n",
       "    </tr>\n",
       "    <tr>\n",
       "      <th>3</th>\n",
       "      <td>Inception</td>\n",
       "      <td>WB</td>\n",
       "      <td>292600000.0</td>\n",
       "      <td>535700000</td>\n",
       "      <td>2010</td>\n",
       "    </tr>\n",
       "    <tr>\n",
       "      <th>4</th>\n",
       "      <td>Shrek Forever After</td>\n",
       "      <td>P/DW</td>\n",
       "      <td>238700000.0</td>\n",
       "      <td>513900000</td>\n",
       "      <td>2010</td>\n",
       "    </tr>\n",
       "  </tbody>\n",
       "</table>\n",
       "</div>"
      ],
      "text/plain": [
       "                                         title studio  domestic_gross  \\\n",
       "0                                  Toy Story 3     BV     415000000.0   \n",
       "1                   Alice in Wonderland (2010)     BV     334200000.0   \n",
       "2  Harry Potter and the Deathly Hallows Part 1     WB     296000000.0   \n",
       "3                                    Inception     WB     292600000.0   \n",
       "4                          Shrek Forever After   P/DW     238700000.0   \n",
       "\n",
       "  foreign_gross  year  \n",
       "0     652000000  2010  \n",
       "1     691300000  2010  \n",
       "2     664300000  2010  \n",
       "3     535700000  2010  \n",
       "4     513900000  2010  "
      ]
     },
     "execution_count": 8,
     "metadata": {},
     "output_type": "execute_result"
    }
   ],
   "source": [
    "# Read in CSV and TSV files\n",
    "movie_gross = pd.read_csv('zippedData/bom.movie_gross.csv.gz')\n",
    "movie_gross.head()"
   ]
  },
  {
   "cell_type": "code",
   "execution_count": 9,
   "metadata": {
    "scrolled": false
   },
   "outputs": [
    {
     "data": {
      "text/html": [
       "<div>\n",
       "<style scoped>\n",
       "    .dataframe tbody tr th:only-of-type {\n",
       "        vertical-align: middle;\n",
       "    }\n",
       "\n",
       "    .dataframe tbody tr th {\n",
       "        vertical-align: top;\n",
       "    }\n",
       "\n",
       "    .dataframe thead th {\n",
       "        text-align: right;\n",
       "    }\n",
       "</style>\n",
       "<table border=\"1\" class=\"dataframe\">\n",
       "  <thead>\n",
       "    <tr style=\"text-align: right;\">\n",
       "      <th></th>\n",
       "      <th>release_date</th>\n",
       "      <th>movie</th>\n",
       "      <th>studio</th>\n",
       "      <th>production_budgetINT</th>\n",
       "      <th>worldwide_grossINT</th>\n",
       "    </tr>\n",
       "  </thead>\n",
       "  <tbody>\n",
       "    <tr>\n",
       "      <th>0</th>\n",
       "      <td>May 20, 2011</td>\n",
       "      <td>Pirates of the Caribbean: On Stranger Tides</td>\n",
       "      <td>BV</td>\n",
       "      <td>410600000</td>\n",
       "      <td>1045663875</td>\n",
       "    </tr>\n",
       "    <tr>\n",
       "      <th>1</th>\n",
       "      <td>May 1, 2015</td>\n",
       "      <td>Avengers: Age of Ultron</td>\n",
       "      <td>BV</td>\n",
       "      <td>330600000</td>\n",
       "      <td>1403013963</td>\n",
       "    </tr>\n",
       "    <tr>\n",
       "      <th>2</th>\n",
       "      <td>Apr 27, 2018</td>\n",
       "      <td>Avengers: Infinity War</td>\n",
       "      <td>BV</td>\n",
       "      <td>300000000</td>\n",
       "      <td>2048134200</td>\n",
       "    </tr>\n",
       "    <tr>\n",
       "      <th>3</th>\n",
       "      <td>Nov 17, 2017</td>\n",
       "      <td>Justice League</td>\n",
       "      <td>WB</td>\n",
       "      <td>300000000</td>\n",
       "      <td>655945209</td>\n",
       "    </tr>\n",
       "    <tr>\n",
       "      <th>4</th>\n",
       "      <td>Nov 6, 2015</td>\n",
       "      <td>Spectre</td>\n",
       "      <td>Sony</td>\n",
       "      <td>300000000</td>\n",
       "      <td>879620923</td>\n",
       "    </tr>\n",
       "  </tbody>\n",
       "</table>\n",
       "</div>"
      ],
      "text/plain": [
       "   release_date                                        movie studio  \\\n",
       "0  May 20, 2011  Pirates of the Caribbean: On Stranger Tides     BV   \n",
       "1   May 1, 2015                      Avengers: Age of Ultron     BV   \n",
       "2  Apr 27, 2018                       Avengers: Infinity War     BV   \n",
       "3  Nov 17, 2017                               Justice League     WB   \n",
       "4   Nov 6, 2015                                      Spectre   Sony   \n",
       "\n",
       "   production_budgetINT  worldwide_grossINT  \n",
       "0             410600000          1045663875  \n",
       "1             330600000          1403013963  \n",
       "2             300000000          2048134200  \n",
       "3             300000000           655945209  \n",
       "4             300000000           879620923  "
      ]
     },
     "execution_count": 9,
     "metadata": {},
     "output_type": "execute_result"
    }
   ],
   "source": [
    "movie_studio_budget = movies_budget.merge(movie_gross, how = 'inner', left_on = 'movie', right_on = 'title')\n",
    "movie_studio_budget = movie_studio_budget[['release_date', 'movie', 'studio','production_budgetINT','worldwide_grossINT']]\n",
    "movie_studio_budget.head()"
   ]
  },
  {
   "cell_type": "code",
   "execution_count": 10,
   "metadata": {},
   "outputs": [],
   "source": [
    "#make release date datetime\n",
    "movie_studio_budget['release_date'] = pd.to_datetime(movie_studio_budget['release_date'])"
   ]
  },
  {
   "cell_type": "code",
   "execution_count": 11,
   "metadata": {},
   "outputs": [
    {
     "data": {
      "text/plain": [
       "1243"
      ]
     },
     "execution_count": 11,
     "metadata": {},
     "output_type": "execute_result"
    }
   ],
   "source": [
    "#how big is it?\n",
    "len(movie_studio_budget)"
   ]
  },
  {
   "cell_type": "code",
   "execution_count": 12,
   "metadata": {},
   "outputs": [],
   "source": [
    "#drop one null studio row\n",
    "movie_studio_budget = movie_studio_budget.dropna()"
   ]
  },
  {
   "cell_type": "code",
   "execution_count": 13,
   "metadata": {
    "scrolled": true
   },
   "outputs": [
    {
     "data": {
      "text/plain": [
       "array(['BV', 'WB', 'Sony', 'WB (NL)', 'Uni.', 'Par.', 'Fox', 'P/DW',\n",
       "       'STX', 'LGF', 'LG/S', 'TriS', 'Wein.', 'MBox', 'Free', 'Rela.',\n",
       "       'IFC', 'EOne', 'FD', 'ORF', 'NM', 'Sum.', 'SGem', 'Focus',\n",
       "       'Annapurna', 'W/Dim.', 'Studio 8', 'MGM', 'MNE', 'BG', 'Magn.',\n",
       "       'Strand', 'CBS', 'SPC', 'BSC', 'ENTMP', 'RTWC', 'Gold.', 'FoxS',\n",
       "       'RAtt.', 'GrtIndia', 'BST', 'VE', 'ParV', 'ALP', 'Anch.', 'Yash',\n",
       "       'EC', 'Over.', 'A24', 'Amazon', 'OMNI/FSR', 'Mira.', 'CE', 'PH',\n",
       "       'KE', 'Saban', 'Global Road', 'PFR', 'Eros', 'CJ', 'ATO', 'IW',\n",
       "       'FCW', 'Neon', 'LD', 'Cohen', 'Alc', 'UTV', 'App.', 'Relbig.',\n",
       "       'First', 'Scre.', 'GK', 'Cleopatra', 'Osci.', 'ELS', 'WHE', 'RLJ',\n",
       "       'TFA', 'Jan.', 'Affirm', '3D', 'BH Tilt', 'Mont.', 'SMod', 'IM',\n",
       "       'P4', 'Drft.', 'PNT', 'Viv.', 'NFC', 'Orch.', 'IVP', 'LGP',\n",
       "       'Trib.', 'Kino', 'BBC', 'DR'], dtype=object)"
      ]
     },
     "execution_count": 13,
     "metadata": {},
     "output_type": "execute_result"
    }
   ],
   "source": [
    "#check to see unique studios\n",
    "movie_studio_budget['studio'].unique()"
   ]
  },
  {
   "cell_type": "code",
   "execution_count": 14,
   "metadata": {},
   "outputs": [
    {
     "data": {
      "text/plain": [
       "array(['BV', 'WB', 'Sony', 'Uni.', 'Par.', 'Fox', 'P/DW', 'STX', 'LGF',\n",
       "       'LG/S', 'TriS', 'Wein.', 'MBox', 'Free', 'Rela.', 'IFC', 'EOne',\n",
       "       'FD', 'ORF', 'NM', 'Sum.', 'SGem', 'Focus', 'Annapurna', 'W/Dim.',\n",
       "       'Studio 8', 'MGM', 'MNE', 'BG', 'Magn.', 'Strand', 'CBS', 'SPC',\n",
       "       'BSC', 'ENTMP', 'RTWC', 'Gold.', 'FoxS', 'RAtt.', 'GrtIndia',\n",
       "       'BST', 'VE', 'ParV', 'ALP', 'Anch.', 'Yash', 'EC', 'Over.', 'A24',\n",
       "       'Amazon', 'OMNI/FSR', 'Mira.', 'CE', 'PH', 'KE', 'Saban',\n",
       "       'Global Road', 'PFR', 'Eros', 'CJ', 'ATO', 'IW', 'FCW', 'Neon',\n",
       "       'LD', 'Cohen', 'Alc', 'UTV', 'App.', 'Relbig.', 'First', 'Scre.',\n",
       "       'GK', 'Cleopatra', 'Osci.', 'ELS', 'WHE', 'RLJ', 'TFA', 'Jan.',\n",
       "       'Affirm', '3D', 'BH Tilt', 'Mont.', 'SMod', 'IM', 'P4', 'Drft.',\n",
       "       'PNT', 'Viv.', 'NFC', 'Orch.', 'IVP', 'LGP', 'Trib.', 'Kino',\n",
       "       'BBC', 'DR'], dtype=object)"
      ]
     },
     "execution_count": 14,
     "metadata": {},
     "output_type": "execute_result"
    }
   ],
   "source": [
    "#make new variable called studio to edit studio names\n",
    "studios = movie_studio_budget['studio']\n",
    "\n",
    "#rename studios that are the same with different names in the dataset\n",
    "studios[studios.str.contains('WB')] = 'WB'\n",
    "\n",
    "\n",
    "# merge the studio variable back into dataframe\n",
    "movie_studio_budget['studio'] = studios\n",
    "\n",
    "studios.unique()"
   ]
  },
  {
   "cell_type": "markdown",
   "metadata": {},
   "source": [
    "## Budget vs. Revenue Correlation"
   ]
  },
  {
   "cell_type": "code",
   "execution_count": 15,
   "metadata": {
    "scrolled": false
   },
   "outputs": [
    {
     "data": {
      "text/plain": [
       "[<matplotlib.lines.Line2D at 0x24555f041c0>]"
      ]
     },
     "execution_count": 15,
     "metadata": {},
     "output_type": "execute_result"
    },
    {
     "data": {
      "image/png": "[encoded data removed]",
      "text/plain": [
       "<Figure size 360x360 with 1 Axes>"
      ]
     },
     "metadata": {
      "needs_background": "light"
     },
     "output_type": "display_data"
    }
   ],
   "source": [
    "#plot scatterplot of budget and revenue to show relationship between the two\n",
    "fig = plt.subplots(figsize=(5, 5))\n",
    "x = movies_budget['production_budgetINT']\n",
    " \n",
    "y = movies_budget['worldwide_grossINT']\n",
    "\n",
    "z = np.polyfit(x, y, 1)\n",
    "p = np.poly1d(z)\n",
    "plt.title('Worldwide Gross vs Production Budget', pad = 15)\n",
    "\n",
    "plt.xlabel('Production Budget (USD)')\n",
    "plt.ylabel('Worldwide Gross (USD)')\n",
    "\n",
    "plt.scatter(x, y, c =\"forestgreen\", alpha = .5, s = 20)\n",
    "plt.plot(x, p(x), color = \"dodgerblue\")"
   ]
  },
  {
   "cell_type": "markdown",
   "metadata": {},
   "source": [
    "*Note the diminishing returns on production budget"
   ]
  },
  {
   "cell_type": "code",
   "execution_count": 16,
   "metadata": {
    "scrolled": true
   },
   "outputs": [
    {
     "data": {
      "text/plain": [
       "<AxesSubplot:xlabel='Production Budget (USD)', ylabel='Density'>"
      ]
     },
     "execution_count": 16,
     "metadata": {},
     "output_type": "execute_result"
    },
    {
     "data": {
      "image/png": "[encoded data removed]",
      "text/plain": [
       "<Figure size 432x288 with 1 Axes>"
      ]
     },
     "metadata": {
      "needs_background": "light"
     },
     "output_type": "display_data"
    }
   ],
   "source": [
    "#plot distribution\n",
    "x = pd.Series(movies_budget['production_budgetINT'], name = \"Production Budget (USD)\")\n",
    "sns.distplot(x, color = \"green\")"
   ]
  },
  {
   "cell_type": "code",
   "execution_count": 17,
   "metadata": {},
   "outputs": [
    {
     "data": {
      "text/plain": [
       "<AxesSubplot:xlabel='Worldwide Gross (USD)', ylabel='Density'>"
      ]
     },
     "execution_count": 17,
     "metadata": {},
     "output_type": "execute_result"
    },
    {
     "data": {
      "image/png": "[encoded data removed]",
      "text/plain": [
       "<Figure size 432x288 with 1 Axes>"
      ]
     },
     "metadata": {
      "needs_background": "light"
     },
     "output_type": "display_data"
    }
   ],
   "source": [
    "#plot distribution\n",
    "x = pd.Series(movies_budget['worldwide_grossINT'], name = \"Worldwide Gross (USD)\")\n",
    "sns.distplot(x)"
   ]
  },
  {
   "cell_type": "code",
   "execution_count": 18,
   "metadata": {},
   "outputs": [
    {
     "data": {
      "text/plain": [
       "NormaltestResult(statistic=3117.059393788195, pvalue=0.0)"
      ]
     },
     "execution_count": 18,
     "metadata": {},
     "output_type": "execute_result"
    }
   ],
   "source": [
    "#test for normality\n",
    "st.normaltest(movies_budget['production_budgetINT'])"
   ]
  },
  {
   "cell_type": "code",
   "execution_count": 19,
   "metadata": {},
   "outputs": [
    {
     "data": {
      "text/plain": [
       "NormaltestResult(statistic=4983.028689614257, pvalue=0.0)"
      ]
     },
     "execution_count": 19,
     "metadata": {},
     "output_type": "execute_result"
    }
   ],
   "source": [
    "#test for normality\n",
    "st.normaltest(movies_budget['worldwide_grossINT'])"
   ]
  },
  {
   "cell_type": "markdown",
   "metadata": {},
   "source": [
    "We reject the null hypothesis that production budget and worldwide gross are normally distributed at all reasonable levels. However, the CLM assumptions say we can generally relax the assumption of normality with large n."
   ]
  },
  {
   "cell_type": "code",
   "execution_count": 20,
   "metadata": {},
   "outputs": [
    {
     "name": "stdout",
     "output_type": "stream",
     "text": [
      "                            OLS Regression Results                            \n",
      "==============================================================================\n",
      "Dep. Variable:     worldwide_grossINT   R-squared:                       0.557\n",
      "Model:                            OLS   Adj. R-squared:                  0.556\n",
      "Method:                 Least Squares   F-statistic:                     6793.\n",
      "Date:                Fri, 29 Jul 2022   Prob (F-statistic):               0.00\n",
      "Time:                        16:13:04   Log-Likelihood:            -1.0838e+05\n",
      "No. Observations:                5415   AIC:                         2.168e+05\n",
      "Df Residuals:                    5413   BIC:                         2.168e+05\n",
      "Df Model:                           1                                         \n",
      "Covariance Type:            nonrobust                                         \n",
      "========================================================================================\n",
      "                           coef    std err          t      P>|t|      [0.025      0.975]\n",
      "----------------------------------------------------------------------------------------\n",
      "Intercept            -6.915e+06   2.06e+06     -3.362      0.001   -1.09e+07   -2.88e+06\n",
      "production_budgetINT     3.1405      0.038     82.421      0.000       3.066       3.215\n",
      "==============================================================================\n",
      "Omnibus:                     3873.225   Durbin-Watson:                   1.013\n",
      "Prob(Omnibus):                  0.000   Jarque-Bera (JB):           143251.883\n",
      "Skew:                           2.978   Prob(JB):                         0.00\n",
      "Kurtosis:                      27.484   Cond. No.                     6.86e+07\n",
      "==============================================================================\n",
      "\n",
      "Notes:\n",
      "[1] Standard Errors assume that the covariance matrix of the errors is correctly specified.\n",
      "[2] The condition number is large, 6.86e+07. This might indicate that there are\n",
      "strong multicollinearity or other numerical problems.\n"
     ]
    }
   ],
   "source": [
    "lm = sm.OLS.from_formula('worldwide_grossINT ~ production_budgetINT',data = movies_budget)\n",
    "result = lm.fit()\n",
    "print(result.summary())"
   ]
  },
  {
   "cell_type": "markdown",
   "metadata": {},
   "source": [
    "## Conclusion"
   ]
  },
  {
   "cell_type": "markdown",
   "metadata": {},
   "source": [
    "Our simple linear regression suggests that an increase in 1 dollar in production budget is associated with an increase in dollars in worldwide gross, statistically signficant at all reasonable levels. Our R-squared is .557, which means that production budget explains 55.7% of the sample variation of worldwide gross. \n",
    "\n",
    "Given our time constraints, we were unable to make a more accurate and complex model. Our simple linear regression has issues of omitted variable bias and heteroskedasticity, however it still gives us a good basic idea of the relationship between budget and revenue. "
   ]
  },
  {
   "cell_type": "markdown",
   "metadata": {},
   "source": [
    "## Top Studios Budgets"
   ]
  },
  {
   "cell_type": "code",
   "execution_count": 21,
   "metadata": {
    "scrolled": true
   },
   "outputs": [
    {
     "data": {
      "text/html": [
       "<div>\n",
       "<style scoped>\n",
       "    .dataframe tbody tr th:only-of-type {\n",
       "        vertical-align: middle;\n",
       "    }\n",
       "\n",
       "    .dataframe tbody tr th {\n",
       "        vertical-align: top;\n",
       "    }\n",
       "\n",
       "    .dataframe thead th {\n",
       "        text-align: right;\n",
       "    }\n",
       "</style>\n",
       "<table border=\"1\" class=\"dataframe\">\n",
       "  <thead>\n",
       "    <tr style=\"text-align: right;\">\n",
       "      <th></th>\n",
       "      <th>release_date</th>\n",
       "      <th>movie</th>\n",
       "      <th>studio</th>\n",
       "      <th>production_budgetINT</th>\n",
       "      <th>worldwide_grossINT</th>\n",
       "    </tr>\n",
       "  </thead>\n",
       "  <tbody>\n",
       "    <tr>\n",
       "      <th>0</th>\n",
       "      <td>2011-05-20</td>\n",
       "      <td>Pirates of the Caribbean: On Stranger Tides</td>\n",
       "      <td>BV</td>\n",
       "      <td>410600000</td>\n",
       "      <td>1045663875</td>\n",
       "    </tr>\n",
       "    <tr>\n",
       "      <th>1</th>\n",
       "      <td>2015-05-01</td>\n",
       "      <td>Avengers: Age of Ultron</td>\n",
       "      <td>BV</td>\n",
       "      <td>330600000</td>\n",
       "      <td>1403013963</td>\n",
       "    </tr>\n",
       "    <tr>\n",
       "      <th>2</th>\n",
       "      <td>2018-04-27</td>\n",
       "      <td>Avengers: Infinity War</td>\n",
       "      <td>BV</td>\n",
       "      <td>300000000</td>\n",
       "      <td>2048134200</td>\n",
       "    </tr>\n",
       "    <tr>\n",
       "      <th>3</th>\n",
       "      <td>2017-11-17</td>\n",
       "      <td>Justice League</td>\n",
       "      <td>WB</td>\n",
       "      <td>300000000</td>\n",
       "      <td>655945209</td>\n",
       "    </tr>\n",
       "    <tr>\n",
       "      <th>4</th>\n",
       "      <td>2015-11-06</td>\n",
       "      <td>Spectre</td>\n",
       "      <td>Sony</td>\n",
       "      <td>300000000</td>\n",
       "      <td>879620923</td>\n",
       "    </tr>\n",
       "  </tbody>\n",
       "</table>\n",
       "</div>"
      ],
      "text/plain": [
       "  release_date                                        movie studio  \\\n",
       "0   2011-05-20  Pirates of the Caribbean: On Stranger Tides     BV   \n",
       "1   2015-05-01                      Avengers: Age of Ultron     BV   \n",
       "2   2018-04-27                       Avengers: Infinity War     BV   \n",
       "3   2017-11-17                               Justice League     WB   \n",
       "4   2015-11-06                                      Spectre   Sony   \n",
       "\n",
       "   production_budgetINT  worldwide_grossINT  \n",
       "0             410600000          1045663875  \n",
       "1             330600000          1403013963  \n",
       "2             300000000          2048134200  \n",
       "3             300000000           655945209  \n",
       "4             300000000           879620923  "
      ]
     },
     "execution_count": 21,
     "metadata": {},
     "output_type": "execute_result"
    }
   ],
   "source": [
    "movie_studio_budget.head()"
   ]
  },
  {
   "cell_type": "code",
   "execution_count": 22,
   "metadata": {},
   "outputs": [
    {
     "data": {
      "text/html": [
       "<div>\n",
       "<style scoped>\n",
       "    .dataframe tbody tr th:only-of-type {\n",
       "        vertical-align: middle;\n",
       "    }\n",
       "\n",
       "    .dataframe tbody tr th {\n",
       "        vertical-align: top;\n",
       "    }\n",
       "\n",
       "    .dataframe thead th {\n",
       "        text-align: right;\n",
       "    }\n",
       "</style>\n",
       "<table border=\"1\" class=\"dataframe\">\n",
       "  <thead>\n",
       "    <tr style=\"text-align: right;\">\n",
       "      <th></th>\n",
       "      <th>release_date</th>\n",
       "      <th>movie</th>\n",
       "      <th>studio</th>\n",
       "      <th>production_budgetINT</th>\n",
       "      <th>worldwide_grossINT</th>\n",
       "    </tr>\n",
       "  </thead>\n",
       "  <tbody>\n",
       "    <tr>\n",
       "      <th>414</th>\n",
       "      <td>1984-06-22</td>\n",
       "      <td>The Karate Kid</td>\n",
       "      <td>Sony</td>\n",
       "      <td>8000000</td>\n",
       "      <td>90815558</td>\n",
       "    </tr>\n",
       "    <tr>\n",
       "      <th>652</th>\n",
       "      <td>1986-04-18</td>\n",
       "      <td>Legend</td>\n",
       "      <td>Uni.</td>\n",
       "      <td>25000000</td>\n",
       "      <td>23506237</td>\n",
       "    </tr>\n",
       "    <tr>\n",
       "      <th>523</th>\n",
       "      <td>1986-10-03</td>\n",
       "      <td>Playing for Keeps</td>\n",
       "      <td>FD</td>\n",
       "      <td>35000000</td>\n",
       "      <td>2000000</td>\n",
       "    </tr>\n",
       "    <tr>\n",
       "      <th>640</th>\n",
       "      <td>1999-08-04</td>\n",
       "      <td>The Gambler</td>\n",
       "      <td>Par.</td>\n",
       "      <td>3000000</td>\n",
       "      <td>101773</td>\n",
       "    </tr>\n",
       "    <tr>\n",
       "      <th>229</th>\n",
       "      <td>2001-06-08</td>\n",
       "      <td>Evolution</td>\n",
       "      <td>IFC</td>\n",
       "      <td>80000000</td>\n",
       "      <td>98341932</td>\n",
       "    </tr>\n",
       "    <tr>\n",
       "      <th>...</th>\n",
       "      <td>...</td>\n",
       "      <td>...</td>\n",
       "      <td>...</td>\n",
       "      <td>...</td>\n",
       "      <td>...</td>\n",
       "    </tr>\n",
       "    <tr>\n",
       "      <th>80</th>\n",
       "      <td>2018-12-21</td>\n",
       "      <td>Aquaman</td>\n",
       "      <td>WB</td>\n",
       "      <td>160000000</td>\n",
       "      <td>1146894640</td>\n",
       "    </tr>\n",
       "    <tr>\n",
       "      <th>173</th>\n",
       "      <td>2018-12-21</td>\n",
       "      <td>Bumblebee</td>\n",
       "      <td>Par.</td>\n",
       "      <td>102000000</td>\n",
       "      <td>465195589</td>\n",
       "    </tr>\n",
       "    <tr>\n",
       "      <th>722</th>\n",
       "      <td>2018-12-25</td>\n",
       "      <td>On the Basis of Sex</td>\n",
       "      <td>Focus</td>\n",
       "      <td>20000000</td>\n",
       "      <td>38073377</td>\n",
       "    </tr>\n",
       "    <tr>\n",
       "      <th>304</th>\n",
       "      <td>2018-12-25</td>\n",
       "      <td>Vice</td>\n",
       "      <td>Annapurna</td>\n",
       "      <td>60000000</td>\n",
       "      <td>70883171</td>\n",
       "    </tr>\n",
       "    <tr>\n",
       "      <th>988</th>\n",
       "      <td>2018-12-25</td>\n",
       "      <td>Destroyer</td>\n",
       "      <td>Annapurna</td>\n",
       "      <td>9000000</td>\n",
       "      <td>3681096</td>\n",
       "    </tr>\n",
       "  </tbody>\n",
       "</table>\n",
       "<p>1242 rows × 5 columns</p>\n",
       "</div>"
      ],
      "text/plain": [
       "    release_date                movie     studio  production_budgetINT  \\\n",
       "414   1984-06-22       The Karate Kid       Sony               8000000   \n",
       "652   1986-04-18               Legend       Uni.              25000000   \n",
       "523   1986-10-03    Playing for Keeps         FD              35000000   \n",
       "640   1999-08-04          The Gambler       Par.               3000000   \n",
       "229   2001-06-08            Evolution        IFC              80000000   \n",
       "..           ...                  ...        ...                   ...   \n",
       "80    2018-12-21              Aquaman         WB             160000000   \n",
       "173   2018-12-21            Bumblebee       Par.             102000000   \n",
       "722   2018-12-25  On the Basis of Sex      Focus              20000000   \n",
       "304   2018-12-25                 Vice  Annapurna              60000000   \n",
       "988   2018-12-25            Destroyer  Annapurna               9000000   \n",
       "\n",
       "     worldwide_grossINT  \n",
       "414            90815558  \n",
       "652            23506237  \n",
       "523             2000000  \n",
       "640              101773  \n",
       "229            98341932  \n",
       "..                  ...  \n",
       "80           1146894640  \n",
       "173           465195589  \n",
       "722            38073377  \n",
       "304            70883171  \n",
       "988             3681096  \n",
       "\n",
       "[1242 rows x 5 columns]"
      ]
     },
     "execution_count": 22,
     "metadata": {},
     "output_type": "execute_result"
    }
   ],
   "source": [
    "movie_studio_budget.sort_values(by = 'release_date')"
   ]
  },
  {
   "cell_type": "code",
   "execution_count": 23,
   "metadata": {},
   "outputs": [
    {
     "data": {
      "text/html": [
       "<div>\n",
       "<style scoped>\n",
       "    .dataframe tbody tr th:only-of-type {\n",
       "        vertical-align: middle;\n",
       "    }\n",
       "\n",
       "    .dataframe tbody tr th {\n",
       "        vertical-align: top;\n",
       "    }\n",
       "\n",
       "    .dataframe thead th {\n",
       "        text-align: right;\n",
       "    }\n",
       "</style>\n",
       "<table border=\"1\" class=\"dataframe\">\n",
       "  <thead>\n",
       "    <tr style=\"text-align: right;\">\n",
       "      <th></th>\n",
       "      <th>studio</th>\n",
       "      <th>production_budgetINT</th>\n",
       "      <th>worldwide_grossINT</th>\n",
       "    </tr>\n",
       "  </thead>\n",
       "  <tbody>\n",
       "    <tr>\n",
       "      <th>0</th>\n",
       "      <td>P/DW</td>\n",
       "      <td>1.334000e+08</td>\n",
       "      <td>5.078028e+08</td>\n",
       "    </tr>\n",
       "    <tr>\n",
       "      <th>1</th>\n",
       "      <td>BV</td>\n",
       "      <td>1.312611e+08</td>\n",
       "      <td>4.623058e+08</td>\n",
       "    </tr>\n",
       "    <tr>\n",
       "      <th>2</th>\n",
       "      <td>GrtIndia</td>\n",
       "      <td>3.000000e+07</td>\n",
       "      <td>2.635029e+08</td>\n",
       "    </tr>\n",
       "    <tr>\n",
       "      <th>3</th>\n",
       "      <td>Fox</td>\n",
       "      <td>7.050455e+07</td>\n",
       "      <td>2.435983e+08</td>\n",
       "    </tr>\n",
       "    <tr>\n",
       "      <th>4</th>\n",
       "      <td>Sony</td>\n",
       "      <td>6.825000e+07</td>\n",
       "      <td>2.378623e+08</td>\n",
       "    </tr>\n",
       "    <tr>\n",
       "      <th>5</th>\n",
       "      <td>Uni.</td>\n",
       "      <td>5.639060e+07</td>\n",
       "      <td>2.335837e+08</td>\n",
       "    </tr>\n",
       "    <tr>\n",
       "      <th>6</th>\n",
       "      <td>WB</td>\n",
       "      <td>7.443381e+07</td>\n",
       "      <td>2.211128e+08</td>\n",
       "    </tr>\n",
       "    <tr>\n",
       "      <th>7</th>\n",
       "      <td>Par.</td>\n",
       "      <td>6.445946e+07</td>\n",
       "      <td>1.951109e+08</td>\n",
       "    </tr>\n",
       "    <tr>\n",
       "      <th>8</th>\n",
       "      <td>Strand</td>\n",
       "      <td>4.500000e+07</td>\n",
       "      <td>1.742782e+08</td>\n",
       "    </tr>\n",
       "    <tr>\n",
       "      <th>9</th>\n",
       "      <td>MGM</td>\n",
       "      <td>4.300000e+07</td>\n",
       "      <td>1.397796e+08</td>\n",
       "    </tr>\n",
       "  </tbody>\n",
       "</table>\n",
       "</div>"
      ],
      "text/plain": [
       "     studio  production_budgetINT  worldwide_grossINT\n",
       "0      P/DW          1.334000e+08        5.078028e+08\n",
       "1        BV          1.312611e+08        4.623058e+08\n",
       "2  GrtIndia          3.000000e+07        2.635029e+08\n",
       "3       Fox          7.050455e+07        2.435983e+08\n",
       "4      Sony          6.825000e+07        2.378623e+08\n",
       "5      Uni.          5.639060e+07        2.335837e+08\n",
       "6        WB          7.443381e+07        2.211128e+08\n",
       "7      Par.          6.445946e+07        1.951109e+08\n",
       "8    Strand          4.500000e+07        1.742782e+08\n",
       "9       MGM          4.300000e+07        1.397796e+08"
      ]
     },
     "execution_count": 23,
     "metadata": {},
     "output_type": "execute_result"
    }
   ],
   "source": [
    "top_studios = movie_studio_budget[['studio', 'production_budgetINT', 'worldwide_grossINT']].groupby(['studio']).mean()\n",
    "top_studios = top_studios.sort_values(by = 'worldwide_grossINT', ascending = False).reset_index().head(10)\n",
    "top_studios"
   ]
  },
  {
   "cell_type": "code",
   "execution_count": 24,
   "metadata": {
    "scrolled": true
   },
   "outputs": [
    {
     "data": {
      "text/plain": [
       "<matplotlib.legend.Legend at 0x24556205190>"
      ]
     },
     "execution_count": 24,
     "metadata": {},
     "output_type": "execute_result"
    },
    {
     "data": {
      "image/png": "[encoded data removed]",
      "text/plain": [
       "<Figure size 432x288 with 1 Axes>"
      ]
     },
     "metadata": {
      "needs_background": "light"
     },
     "output_type": "display_data"
    }
   ],
   "source": [
    "w=0.3\n",
    "x = list(top_studios['studio'])\n",
    "worldwide_gross = list(top_studios['worldwide_grossINT'])\n",
    "production_budget = list(top_studios['production_budgetINT'])\n",
    "\n",
    "bar1 = np.arange(len(x))\n",
    "bar2 = [i+w for i in bar1]\n",
    "\n",
    "plt.bar(bar1,worldwide_gross,w,label='Worldwide Gross', color = 'forestgreen')\n",
    "plt.bar(bar2,production_budget,w,label='Production Budget', color = 'dodgerblue')\n",
    "plt.title(\"Top Studio's Average Revenue vs Budget per Movie, 1984-2018\", pad = 15)\n",
    "plt.xticks(bar1+w/2,x)\n",
    "plt.xlabel('Studio')\n",
    "plt.ylabel('Average Worldwide Gross (USD)')\n",
    "plt.legend()"
   ]
  },
  {
   "cell_type": "code",
   "execution_count": 25,
   "metadata": {},
   "outputs": [
    {
     "data": {
      "text/html": [
       "<div>\n",
       "<style scoped>\n",
       "    .dataframe tbody tr th:only-of-type {\n",
       "        vertical-align: middle;\n",
       "    }\n",
       "\n",
       "    .dataframe tbody tr th {\n",
       "        vertical-align: top;\n",
       "    }\n",
       "\n",
       "    .dataframe thead th {\n",
       "        text-align: right;\n",
       "    }\n",
       "</style>\n",
       "<table border=\"1\" class=\"dataframe\">\n",
       "  <thead>\n",
       "    <tr style=\"text-align: right;\">\n",
       "      <th></th>\n",
       "      <th>studio</th>\n",
       "      <th>production_budgetINT</th>\n",
       "      <th>worldwide_grossINT</th>\n",
       "    </tr>\n",
       "  </thead>\n",
       "  <tbody>\n",
       "    <tr>\n",
       "      <th>0</th>\n",
       "      <td>BV</td>\n",
       "      <td>9450800000</td>\n",
       "      <td>33286017937</td>\n",
       "    </tr>\n",
       "    <tr>\n",
       "      <th>1</th>\n",
       "      <td>WB</td>\n",
       "      <td>10346300000</td>\n",
       "      <td>30734676216</td>\n",
       "    </tr>\n",
       "    <tr>\n",
       "      <th>2</th>\n",
       "      <td>Uni.</td>\n",
       "      <td>6597700000</td>\n",
       "      <td>27329288200</td>\n",
       "    </tr>\n",
       "    <tr>\n",
       "      <th>3</th>\n",
       "      <td>Fox</td>\n",
       "      <td>7755500000</td>\n",
       "      <td>26795813328</td>\n",
       "    </tr>\n",
       "    <tr>\n",
       "      <th>4</th>\n",
       "      <td>Sony</td>\n",
       "      <td>5050500000</td>\n",
       "      <td>17601810459</td>\n",
       "    </tr>\n",
       "    <tr>\n",
       "      <th>5</th>\n",
       "      <td>Par.</td>\n",
       "      <td>4770000000</td>\n",
       "      <td>14438207167</td>\n",
       "    </tr>\n",
       "    <tr>\n",
       "      <th>6</th>\n",
       "      <td>LGF</td>\n",
       "      <td>2069387650</td>\n",
       "      <td>6983389000</td>\n",
       "    </tr>\n",
       "    <tr>\n",
       "      <th>7</th>\n",
       "      <td>P/DW</td>\n",
       "      <td>1334000000</td>\n",
       "      <td>5078027601</td>\n",
       "    </tr>\n",
       "    <tr>\n",
       "      <th>8</th>\n",
       "      <td>LG/S</td>\n",
       "      <td>1657500000</td>\n",
       "      <td>3815924856</td>\n",
       "    </tr>\n",
       "    <tr>\n",
       "      <th>9</th>\n",
       "      <td>Wein.</td>\n",
       "      <td>838000000</td>\n",
       "      <td>2819991732</td>\n",
       "    </tr>\n",
       "  </tbody>\n",
       "</table>\n",
       "</div>"
      ],
      "text/plain": [
       "  studio  production_budgetINT  worldwide_grossINT\n",
       "0     BV            9450800000         33286017937\n",
       "1     WB           10346300000         30734676216\n",
       "2   Uni.            6597700000         27329288200\n",
       "3    Fox            7755500000         26795813328\n",
       "4   Sony            5050500000         17601810459\n",
       "5   Par.            4770000000         14438207167\n",
       "6    LGF            2069387650          6983389000\n",
       "7   P/DW            1334000000          5078027601\n",
       "8   LG/S            1657500000          3815924856\n",
       "9  Wein.             838000000          2819991732"
      ]
     },
     "execution_count": 25,
     "metadata": {},
     "output_type": "execute_result"
    }
   ],
   "source": [
    "top_studios_total = movie_studio_budget[['studio', 'production_budgetINT', 'worldwide_grossINT']].groupby(['studio']).sum()\n",
    "top_studios_total = top_studios_total.sort_values(by = 'worldwide_grossINT', ascending = False).reset_index().head(10)\n",
    "top_studios_total"
   ]
  },
  {
   "cell_type": "code",
   "execution_count": 26,
   "metadata": {
    "scrolled": true
   },
   "outputs": [
    {
     "data": {
      "text/plain": [
       "<matplotlib.legend.Legend at 0x245560a7d30>"
      ]
     },
     "execution_count": 26,
     "metadata": {},
     "output_type": "execute_result"
    },
    {
     "data": {
      "image/png": "[encoded data removed]",
      "text/plain": [
       "<Figure size 432x288 with 1 Axes>"
      ]
     },
     "metadata": {
      "needs_background": "light"
     },
     "output_type": "display_data"
    }
   ],
   "source": [
    "w=0.3\n",
    "x = list(top_studios_total['studio'])\n",
    "worldwide_gross = list(top_studios_total['worldwide_grossINT'])\n",
    "production_budget = list(top_studios_total['production_budgetINT'])\n",
    "\n",
    "bar1 = np.arange(len(x))\n",
    "bar2 = [i+w for i in bar1]\n",
    "\n",
    "plt.bar(bar1,(worldwide_gross),w,label='Worldwide Gross', color = 'forestgreen')\n",
    "plt.bar(bar2,(production_budget),w,label='Production Budget', color = 'dodgerblue')\n",
    "plt.title(\"Top Studio's Total Revenue vs Budget Across All Movies, 1984-2018\", pad = 15)\n",
    "plt.xticks(bar1+w/2,x)\n",
    "plt.xlabel('Studio')\n",
    "plt.ylabel('Total Worldwide Gross (USD)')\n",
    "plt.legend()"
   ]
  },
  {
   "cell_type": "markdown",
   "metadata": {},
   "source": [
    "## Recommendation"
   ]
  },
  {
   "cell_type": "markdown",
   "metadata": {},
   "source": [
    "We found there is a significant correlation between budget and revenue, suggesting that an increase in production budget is associated with an increase in gross revenue. However, our linear model doesn't take into account what looks to be diminishing returns to increasing production budget. It looks like the diminishing returns begin between 200,000,000 USD and 250,000,000 USD. Looking at other studios, our top competitors specifically, we can see that they spend between 43,000,000 USD and 130,000,000 USD in their production budget per movie."
   ]
  }
 ],
 "metadata": {
  "kernelspec": {
   "display_name": "Python (learn-env)",
   "language": "python",
   "name": "learn-env"
  },
  "language_info": {
   "codemirror_mode": {
    "name": "ipython",
    "version": 3
   },
   "file_extension": ".py",
   "mimetype": "text/x-python",
   "name": "python",
   "nbconvert_exporter": "python",
   "pygments_lexer": "ipython3",
   "version": "3.8.5"
  }
 },
 "nbformat": 4,
 "nbformat_minor": 4
}
